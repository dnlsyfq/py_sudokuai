{
 "nbformat": 4,
 "nbformat_minor": 2,
 "metadata": {
  "language_info": {
   "name": "python",
   "codemirror_mode": {
    "name": "ipython",
    "version": 3
   },
   "version": "3.7.4-final"
  },
  "orig_nbformat": 2,
  "file_extension": ".py",
  "mimetype": "text/x-python",
  "name": "python",
  "npconvert_exporter": "python",
  "pygments_lexer": "ipython3",
  "version": 3,
  "kernelspec": {
   "name": "python37464bit35311e3470d14a38b7fcc4af78d751a3",
   "display_name": "Python 3.7.4 64-bit"
  }
 },
 "cells": [
  {
   "cell_type": "code",
   "execution_count": 51,
   "metadata": {},
   "outputs": [],
   "source": [
    "import numpy as np\n",
    "from utils import *"
   ]
  },
  {
   "cell_type": "code",
   "execution_count": 1,
   "metadata": {},
   "outputs": [],
   "source": [
    "unsolved_puzzle = \"..3.2.6..9..3.5..1..18.64....81.29..7.......8..67.82....26.95..8..2.3..9..5.1.3..\""
   ]
  },
  {
   "cell_type": "code",
   "execution_count": 3,
   "metadata": {},
   "outputs": [],
   "source": [
    "solved_puzzle = \"483921657967345821251876493548132976729564138136798245372689514814253769695417382\""
   ]
  },
  {
   "cell_type": "code",
   "execution_count": 8,
   "metadata": {},
   "outputs": [],
   "source": [
    "rows = 'ABCDEFGHI'\n",
    "cols = '123456789'"
   ]
  },
  {
   "cell_type": "code",
   "execution_count": 9,
   "metadata": {},
   "outputs": [],
   "source": [
    "def cross(x,y):\n",
    "    return [s + t for s in x for t in y ]"
   ]
  },
  {
   "cell_type": "code",
   "execution_count": 11,
   "metadata": {},
   "outputs": [],
   "source": [
    "boxes = cross(rows,cols)"
   ]
  },
  {
   "cell_type": "code",
   "execution_count": 26,
   "metadata": {},
   "outputs": [],
   "source": [
    "row_units  =[cross(r,cols) for r in rows]"
   ]
  },
  {
   "cell_type": "code",
   "execution_count": 27,
   "metadata": {},
   "outputs": [
    {
     "data": {
      "text/plain": "[['A1', 'A2', 'A3', 'A4', 'A5', 'A6', 'A7', 'A8', 'A9'],\n ['B1', 'B2', 'B3', 'B4', 'B5', 'B6', 'B7', 'B8', 'B9'],\n ['C1', 'C2', 'C3', 'C4', 'C5', 'C6', 'C7', 'C8', 'C9'],\n ['D1', 'D2', 'D3', 'D4', 'D5', 'D6', 'D7', 'D8', 'D9'],\n ['E1', 'E2', 'E3', 'E4', 'E5', 'E6', 'E7', 'E8', 'E9'],\n ['F1', 'F2', 'F3', 'F4', 'F5', 'F6', 'F7', 'F8', 'F9'],\n ['G1', 'G2', 'G3', 'G4', 'G5', 'G6', 'G7', 'G8', 'G9'],\n ['H1', 'H2', 'H3', 'H4', 'H5', 'H6', 'H7', 'H8', 'H9'],\n ['I1', 'I2', 'I3', 'I4', 'I5', 'I6', 'I7', 'I8', 'I9']]"
     },
     "execution_count": 27,
     "metadata": {},
     "output_type": "execute_result"
    }
   ],
   "source": [
    "row_units"
   ]
  },
  {
   "cell_type": "code",
   "execution_count": 29,
   "metadata": {},
   "outputs": [],
   "source": [
    "col_units = [cross(rows,c) for c in cols]"
   ]
  },
  {
   "cell_type": "code",
   "execution_count": 30,
   "metadata": {},
   "outputs": [
    {
     "data": {
      "text/plain": "[['A1', 'B1', 'C1', 'D1', 'E1', 'F1', 'G1', 'H1', 'I1'],\n ['A2', 'B2', 'C2', 'D2', 'E2', 'F2', 'G2', 'H2', 'I2'],\n ['A3', 'B3', 'C3', 'D3', 'E3', 'F3', 'G3', 'H3', 'I3'],\n ['A4', 'B4', 'C4', 'D4', 'E4', 'F4', 'G4', 'H4', 'I4'],\n ['A5', 'B5', 'C5', 'D5', 'E5', 'F5', 'G5', 'H5', 'I5'],\n ['A6', 'B6', 'C6', 'D6', 'E6', 'F6', 'G6', 'H6', 'I6'],\n ['A7', 'B7', 'C7', 'D7', 'E7', 'F7', 'G7', 'H7', 'I7'],\n ['A8', 'B8', 'C8', 'D8', 'E8', 'F8', 'G8', 'H8', 'I8'],\n ['A9', 'B9', 'C9', 'D9', 'E9', 'F9', 'G9', 'H9', 'I9']]"
     },
     "execution_count": 30,
     "metadata": {},
     "output_type": "execute_result"
    }
   ],
   "source": [
    "col_units"
   ]
  },
  {
   "cell_type": "code",
   "execution_count": 33,
   "metadata": {},
   "outputs": [],
   "source": [
    "square_units = [cross(x,y) for x in ('ABC','DEF','GHI') for y in ('123','456','789')]"
   ]
  },
  {
   "cell_type": "code",
   "execution_count": 34,
   "metadata": {},
   "outputs": [
    {
     "data": {
      "text/plain": "[['A1', 'A2', 'A3', 'B1', 'B2', 'B3', 'C1', 'C2', 'C3'],\n ['A4', 'A5', 'A6', 'B4', 'B5', 'B6', 'C4', 'C5', 'C6'],\n ['A7', 'A8', 'A9', 'B7', 'B8', 'B9', 'C7', 'C8', 'C9'],\n ['D1', 'D2', 'D3', 'E1', 'E2', 'E3', 'F1', 'F2', 'F3'],\n ['D4', 'D5', 'D6', 'E4', 'E5', 'E6', 'F4', 'F5', 'F6'],\n ['D7', 'D8', 'D9', 'E7', 'E8', 'E9', 'F7', 'F8', 'F9'],\n ['G1', 'G2', 'G3', 'H1', 'H2', 'H3', 'I1', 'I2', 'I3'],\n ['G4', 'G5', 'G6', 'H4', 'H5', 'H6', 'I4', 'I5', 'I6'],\n ['G7', 'G8', 'G9', 'H7', 'H8', 'H9', 'I7', 'I8', 'I9']]"
     },
     "execution_count": 34,
     "metadata": {},
     "output_type": "execute_result"
    }
   ],
   "source": [
    "square_units"
   ]
  },
  {
   "cell_type": "code",
   "execution_count": 63,
   "metadata": {},
   "outputs": [],
   "source": [
    "unitlist = row_units + col_units + square_units"
   ]
  },
  {
   "cell_type": "code",
   "execution_count": 64,
   "metadata": {},
   "outputs": [
    {
     "data": {
      "text/plain": "[['A1', 'A2', 'A3', 'A4', 'A5', 'A6', 'A7', 'A8', 'A9'],\n ['B1', 'B2', 'B3', 'B4', 'B5', 'B6', 'B7', 'B8', 'B9'],\n ['C1', 'C2', 'C3', 'C4', 'C5', 'C6', 'C7', 'C8', 'C9'],\n ['D1', 'D2', 'D3', 'D4', 'D5', 'D6', 'D7', 'D8', 'D9'],\n ['E1', 'E2', 'E3', 'E4', 'E5', 'E6', 'E7', 'E8', 'E9'],\n ['F1', 'F2', 'F3', 'F4', 'F5', 'F6', 'F7', 'F8', 'F9'],\n ['G1', 'G2', 'G3', 'G4', 'G5', 'G6', 'G7', 'G8', 'G9'],\n ['H1', 'H2', 'H3', 'H4', 'H5', 'H6', 'H7', 'H8', 'H9'],\n ['I1', 'I2', 'I3', 'I4', 'I5', 'I6', 'I7', 'I8', 'I9'],\n ['A1', 'B1', 'C1', 'D1', 'E1', 'F1', 'G1', 'H1', 'I1'],\n ['A2', 'B2', 'C2', 'D2', 'E2', 'F2', 'G2', 'H2', 'I2'],\n ['A3', 'B3', 'C3', 'D3', 'E3', 'F3', 'G3', 'H3', 'I3'],\n ['A4', 'B4', 'C4', 'D4', 'E4', 'F4', 'G4', 'H4', 'I4'],\n ['A5', 'B5', 'C5', 'D5', 'E5', 'F5', 'G5', 'H5', 'I5'],\n ['A6', 'B6', 'C6', 'D6', 'E6', 'F6', 'G6', 'H6', 'I6'],\n ['A7', 'B7', 'C7', 'D7', 'E7', 'F7', 'G7', 'H7', 'I7'],\n ['A8', 'B8', 'C8', 'D8', 'E8', 'F8', 'G8', 'H8', 'I8'],\n ['A9', 'B9', 'C9', 'D9', 'E9', 'F9', 'G9', 'H9', 'I9'],\n ['A1', 'A2', 'A3', 'B1', 'B2', 'B3', 'C1', 'C2', 'C3'],\n ['A4', 'A5', 'A6', 'B4', 'B5', 'B6', 'C4', 'C5', 'C6'],\n ['A7', 'A8', 'A9', 'B7', 'B8', 'B9', 'C7', 'C8', 'C9'],\n ['D1', 'D2', 'D3', 'E1', 'E2', 'E3', 'F1', 'F2', 'F3'],\n ['D4', 'D5', 'D6', 'E4', 'E5', 'E6', 'F4', 'F5', 'F6'],\n ['D7', 'D8', 'D9', 'E7', 'E8', 'E9', 'F7', 'F8', 'F9'],\n ['G1', 'G2', 'G3', 'H1', 'H2', 'H3', 'I1', 'I2', 'I3'],\n ['G4', 'G5', 'G6', 'H4', 'H5', 'H6', 'I4', 'I5', 'I6'],\n ['G7', 'G8', 'G9', 'H7', 'H8', 'H9', 'I7', 'I8', 'I9']]"
     },
     "execution_count": 64,
     "metadata": {},
     "output_type": "execute_result"
    }
   ],
   "source": [
    "unitlist"
   ]
  },
  {
   "cell_type": "code",
   "execution_count": 38,
   "metadata": {},
   "outputs": [
    {
     "data": {
      "text/plain": "'..3.2.6..9..3.5..1..18.64....81.29..7.......8..67.82....26.95..8..2.3..9..5.1.3..'"
     },
     "execution_count": 38,
     "metadata": {},
     "output_type": "execute_result"
    }
   ],
   "source": [
    "unsolved_puzzle"
   ]
  },
  {
   "cell_type": "code",
   "execution_count": 40,
   "metadata": {},
   "outputs": [
    {
     "data": {
      "text/plain": "81"
     },
     "execution_count": 40,
     "metadata": {},
     "output_type": "execute_result"
    }
   ],
   "source": [
    "len(unsolved_puzzle)"
   ]
  },
  {
   "cell_type": "code",
   "execution_count": 46,
   "metadata": {},
   "outputs": [],
   "source": [
    "from utils import *"
   ]
  },
  {
   "cell_type": "code",
   "execution_count": 47,
   "metadata": {},
   "outputs": [],
   "source": [
    "rows = 'ABCDEFGHI'\n",
    "cols = '123456789'\n",
    "\n",
    "def cross(a, b):\n",
    "    return [s+t for s in a for t in b]\n",
    "\n",
    "boxes = cross(rows, cols)\n",
    "\n",
    "row_units = [cross(r, cols) for r in rows]\n",
    "column_units = [cross(rows, c) for c in cols]\n",
    "square_units = [cross(rs, cs) for rs in ('ABC','DEF','GHI') for cs in ('123','456','789')]\n",
    "unitlist = row_units + column_units + square_units\n",
    "units = dict((s, [u for u in unitlist if s in u]) for s in boxes)\n",
    "peers = dict((s, set(sum(units[s],[]))-set([s])) for s in boxes)\n",
    "\n",
    "def display(values):\n",
    "    \"\"\"\n",
    "    Display the values as a 2-D grid.\n",
    "    Input: The sudoku in dictionary form\n",
    "    Output: None\n",
    "    \"\"\"\n",
    "    width = 1+max(len(values[s]) for s in boxes)\n",
    "    line = '+'.join(['-'*(width*3)]*3)\n",
    "    for r in rows:\n",
    "        print(''.join(values[r+c].center(width)+('|' if c in '36' else '')\n",
    "                      for c in cols))\n",
    "        if r in 'CF': print(line)\n",
    "    return\n"
   ]
  },
  {
   "cell_type": "code",
   "execution_count": 56,
   "metadata": {},
   "outputs": [],
   "source": [
    "from utils import *\n",
    "\n",
    "# `grid` is defined in the test code scope as the following:\n",
    "# (note: changing the value here will _not_ change the test code)\n",
    "# grid = '..3.2.6..9..3.5..1..18.64....81.29..7.......8..67.82....26.95..8..2.3..9..5.1.3..'\n",
    "\n",
    "def grid_values(grid):\n",
    "    \"\"\"Convert grid string into {<box>: <value>} dict with '.' value for empties.\n",
    "\n",
    "    Args:\n",
    "        grid: string form, 81 characters long\n",
    "    Returns:\n",
    "        - keys: Box labels, e.g. 'A1'\n",
    "        - values: Value in corresponding box, e.g. '8', or '.' if it is empty.\n",
    "    \"\"\"\n",
    "    assert len(grid) == 81, \"Input grid must be a string of length 81 (9x9)\"\n",
    "    return dict(zip(boxes,grid))"
   ]
  },
  {
   "cell_type": "code",
   "execution_count": 57,
   "metadata": {},
   "outputs": [
    {
     "data": {
      "text/plain": "'483921657967345821251876493548132976729564138136798245372689514814253769695417382'"
     },
     "execution_count": 57,
     "metadata": {},
     "output_type": "execute_result"
    }
   ],
   "source": [
    "solved_puzzle"
   ]
  },
  {
   "cell_type": "code",
   "execution_count": 58,
   "metadata": {},
   "outputs": [
    {
     "data": {
      "text/plain": "'..3.2.6..9..3.5..1..18.64....81.29..7.......8..67.82....26.95..8..2.3..9..5.1.3..'"
     },
     "execution_count": 58,
     "metadata": {},
     "output_type": "execute_result"
    }
   ],
   "source": [
    "unsolved_puzzle"
   ]
  },
  {
   "cell_type": "code",
   "execution_count": 65,
   "metadata": {},
   "outputs": [
    {
     "data": {
      "text/plain": "[['A1', 'A2', 'A3', 'A4', 'A5', 'A6', 'A7', 'A8', 'A9'],\n ['B1', 'B2', 'B3', 'B4', 'B5', 'B6', 'B7', 'B8', 'B9'],\n ['C1', 'C2', 'C3', 'C4', 'C5', 'C6', 'C7', 'C8', 'C9'],\n ['D1', 'D2', 'D3', 'D4', 'D5', 'D6', 'D7', 'D8', 'D9'],\n ['E1', 'E2', 'E3', 'E4', 'E5', 'E6', 'E7', 'E8', 'E9'],\n ['F1', 'F2', 'F3', 'F4', 'F5', 'F6', 'F7', 'F8', 'F9'],\n ['G1', 'G2', 'G3', 'G4', 'G5', 'G6', 'G7', 'G8', 'G9'],\n ['H1', 'H2', 'H3', 'H4', 'H5', 'H6', 'H7', 'H8', 'H9'],\n ['I1', 'I2', 'I3', 'I4', 'I5', 'I6', 'I7', 'I8', 'I9'],\n ['A1', 'B1', 'C1', 'D1', 'E1', 'F1', 'G1', 'H1', 'I1'],\n ['A2', 'B2', 'C2', 'D2', 'E2', 'F2', 'G2', 'H2', 'I2'],\n ['A3', 'B3', 'C3', 'D3', 'E3', 'F3', 'G3', 'H3', 'I3'],\n ['A4', 'B4', 'C4', 'D4', 'E4', 'F4', 'G4', 'H4', 'I4'],\n ['A5', 'B5', 'C5', 'D5', 'E5', 'F5', 'G5', 'H5', 'I5'],\n ['A6', 'B6', 'C6', 'D6', 'E6', 'F6', 'G6', 'H6', 'I6'],\n ['A7', 'B7', 'C7', 'D7', 'E7', 'F7', 'G7', 'H7', 'I7'],\n ['A8', 'B8', 'C8', 'D8', 'E8', 'F8', 'G8', 'H8', 'I8'],\n ['A9', 'B9', 'C9', 'D9', 'E9', 'F9', 'G9', 'H9', 'I9'],\n ['A1', 'A2', 'A3', 'B1', 'B2', 'B3', 'C1', 'C2', 'C3'],\n ['A4', 'A5', 'A6', 'B4', 'B5', 'B6', 'C4', 'C5', 'C6'],\n ['A7', 'A8', 'A9', 'B7', 'B8', 'B9', 'C7', 'C8', 'C9'],\n ['D1', 'D2', 'D3', 'E1', 'E2', 'E3', 'F1', 'F2', 'F3'],\n ['D4', 'D5', 'D6', 'E4', 'E5', 'E6', 'F4', 'F5', 'F6'],\n ['D7', 'D8', 'D9', 'E7', 'E8', 'E9', 'F7', 'F8', 'F9'],\n ['G1', 'G2', 'G3', 'H1', 'H2', 'H3', 'I1', 'I2', 'I3'],\n ['G4', 'G5', 'G6', 'H4', 'H5', 'H6', 'I4', 'I5', 'I6'],\n ['G7', 'G8', 'G9', 'H7', 'H8', 'H9', 'I7', 'I8', 'I9']]"
     },
     "execution_count": 65,
     "metadata": {},
     "output_type": "execute_result"
    }
   ],
   "source": [
    "unitlist"
   ]
  },
  {
   "cell_type": "code",
   "execution_count": 72,
   "metadata": {},
   "outputs": [],
   "source": [
    "def gridvalues(string_var):\n",
    "    dct = {}\n",
    "    for x,y in zip(boxes,string_var):\n",
    "        dct[x] = y\n",
    "    return dct"
   ]
  },
  {
   "cell_type": "code",
   "execution_count": 74,
   "metadata": {},
   "outputs": [
    {
     "name": "stdout",
     "output_type": "stream",
     "text": "4 8 3 |9 2 1 |6 5 7 \n9 6 7 |3 4 5 |8 2 1 \n2 5 1 |8 7 6 |4 9 3 \n------+------+------\n5 4 8 |1 3 2 |9 7 6 \n7 2 9 |5 6 4 |1 3 8 \n1 3 6 |7 9 8 |2 4 5 \n------+------+------\n3 7 2 |6 8 9 |5 1 4 \n8 1 4 |2 5 3 |7 6 9 \n6 9 5 |4 1 7 |3 8 2 \n"
    }
   ],
   "source": [
    "display(gridvalues(solved_puzzle))"
   ]
  },
  {
   "cell_type": "markdown",
   "metadata": {},
   "source": [
    "**Strategy 1 : Elimination**"
   ]
  },
  {
   "cell_type": "code",
   "execution_count": 75,
   "metadata": {},
   "outputs": [],
   "source": [
    "rows = 'ABCDEFGHI'\n",
    "cols = '123456789'\n",
    "\n",
    "def cross(a, b):\n",
    "    return [s+t for s in a for t in b]\n",
    "\n",
    "boxes = cross(rows, cols)\n",
    "\n",
    "row_units = [cross(r, cols) for r in rows]\n",
    "column_units = [cross(rows, c) for c in cols]\n",
    "square_units = [cross(rs, cs) for rs in ('ABC','DEF','GHI') for cs in ('123','456','789')]\n",
    "unitlist = row_units + column_units + square_units\n",
    "units = dict((s, [u for u in unitlist if s in u]) for s in boxes)\n",
    "peers = dict((s, set(sum(units[s],[]))-set([s])) for s in boxes)\n",
    "\n",
    "def display(values):\n",
    "    \"\"\"\n",
    "    Display the values as a 2-D grid.\n",
    "    Input: The sudoku in dictionary form\n",
    "    Output: None\n",
    "    \"\"\"\n",
    "    width = 1+max(len(values[s]) for s in boxes)\n",
    "    line = '+'.join(['-'*(width*3)]*3)\n",
    "    for r in rows:\n",
    "        print(''.join(values[r+c].center(width)+('|' if c in '36' else '')\n",
    "                      for c in cols))\n",
    "        if r in 'CF': print(line)\n",
    "    return\n"
   ]
  },
  {
   "cell_type": "code",
   "execution_count": 92,
   "metadata": {},
   "outputs": [],
   "source": [
    "from utils import *\n",
    "\n",
    "def grid_values(grid):\n",
    "    \"\"\"Convert grid string into {<box>: <value>} dict with '123456789' value for empties.\n",
    "\n",
    "    Args:\n",
    "        grid: Sudoku grid in string form, 81 characters long\n",
    "    Returns:\n",
    "        dictionary form:\n",
    "        - keys: Box labels, e.g. 'A1'\n",
    "        - values: Value in corresponding box, e.g. '8', or '123456789' if it is empty.\n",
    "    \"\"\"\n",
    "    grid_complete = dict(zip(boxes,grid))\n",
    "    for k,v in grid_complete.items():\n",
    "        if v == '.':\n",
    "            grid_complete[k] = '123456789'\n",
    "    return grid_complete"
   ]
  },
  {
   "cell_type": "code",
   "execution_count": 93,
   "metadata": {},
   "outputs": [
    {
     "data": {
      "text/plain": "{'A1': '123456789',\n 'A2': '123456789',\n 'A3': '3',\n 'A4': '123456789',\n 'A5': '2',\n 'A6': '123456789',\n 'A7': '6',\n 'A8': '123456789',\n 'A9': '123456789',\n 'B1': '9',\n 'B2': '123456789',\n 'B3': '123456789',\n 'B4': '3',\n 'B5': '123456789',\n 'B6': '5',\n 'B7': '123456789',\n 'B8': '123456789',\n 'B9': '1',\n 'C1': '123456789',\n 'C2': '123456789',\n 'C3': '1',\n 'C4': '8',\n 'C5': '123456789',\n 'C6': '6',\n 'C7': '4',\n 'C8': '123456789',\n 'C9': '123456789',\n 'D1': '123456789',\n 'D2': '123456789',\n 'D3': '8',\n 'D4': '1',\n 'D5': '123456789',\n 'D6': '2',\n 'D7': '9',\n 'D8': '123456789',\n 'D9': '123456789',\n 'E1': '7',\n 'E2': '123456789',\n 'E3': '123456789',\n 'E4': '123456789',\n 'E5': '123456789',\n 'E6': '123456789',\n 'E7': '123456789',\n 'E8': '123456789',\n 'E9': '8',\n 'F1': '123456789',\n 'F2': '123456789',\n 'F3': '6',\n 'F4': '7',\n 'F5': '123456789',\n 'F6': '8',\n 'F7': '2',\n 'F8': '123456789',\n 'F9': '123456789',\n 'G1': '123456789',\n 'G2': '123456789',\n 'G3': '2',\n 'G4': '6',\n 'G5': '123456789',\n 'G6': '9',\n 'G7': '5',\n 'G8': '123456789',\n 'G9': '123456789',\n 'H1': '8',\n 'H2': '123456789',\n 'H3': '123456789',\n 'H4': '2',\n 'H5': '123456789',\n 'H6': '3',\n 'H7': '123456789',\n 'H8': '123456789',\n 'H9': '9',\n 'I1': '123456789',\n 'I2': '123456789',\n 'I3': '5',\n 'I4': '123456789',\n 'I5': '1',\n 'I6': '123456789',\n 'I7': '3',\n 'I8': '123456789',\n 'I9': '123456789'}"
     },
     "execution_count": 93,
     "metadata": {},
     "output_type": "execute_result"
    }
   ],
   "source": [
    "grid_values(unsolved_puzzle)"
   ]
  },
  {
   "cell_type": "code",
   "execution_count": 94,
   "metadata": {},
   "outputs": [],
   "source": [
    "rows = 'ABCDEFGHI'\n",
    "cols = '123456789'\n",
    "\n",
    "def cross(a, b):\n",
    "    return [s+t for s in a for t in b]\n",
    "\n",
    "\n",
    "boxes = cross(rows, cols)\n",
    "\n",
    "row_units = [cross(r, cols) for r in rows]\n",
    "column_units = [cross(rows, c) for c in cols]\n",
    "square_units = [cross(rs, cs) for rs in ('ABC','DEF','GHI') for cs in ('123','456','789')]\n",
    "unitlist = row_units + column_units + square_units\n",
    "units = dict((s, [u for u in unitlist if s in u]) for s in boxes)\n",
    "peers = dict((s, set(sum(units[s],[]))-set([s])) for s in boxes)\n",
    "\n",
    "\n",
    "def display(values):\n",
    "    \"\"\"\n",
    "    Display the values as a 2-D grid.\n",
    "    Input: The sudoku in dictionary form\n",
    "    Output: None\n",
    "    \"\"\"\n",
    "    width = 1+max(len(values[s]) for s in boxes)\n",
    "    line = '+'.join(['-'*(width*3)]*3)\n",
    "    for r in rows:\n",
    "        print(''.join(values[r+c].center(width)+('|' if c in '36' else '')\n",
    "                      for c in cols))\n",
    "        if r in 'CF': print(line)\n",
    "    return\n",
    "\n",
    "\n",
    "# WARNING! We've modified this function to return '123456789' instead of '.' for boxes with no value.\n",
    "# Look at the explanation above in the text.\n",
    "def grid_values(grid):\n",
    "    \"\"\"Convert grid string into {<box>: <value>} dict with '123456789' value for empties.\n",
    "\n",
    "    Args:\n",
    "        grid: Sudoku grid in string form, 81 characters long\n",
    "    Returns:\n",
    "        Sudoku grid in dictionary form:\n",
    "        - keys: Box labels, e.g. 'A1'\n",
    "        - values: Value in corresponding box, e.g. '8', or '123456789' if it is empty.\n",
    "    \"\"\"\n",
    "    values = []\n",
    "    all_digits = '123456789'\n",
    "    for c in grid:\n",
    "        if c == '.':\n",
    "            values.append(all_digits)\n",
    "        elif c in all_digits:\n",
    "            values.append(c)\n",
    "    assert len(values) == 81\n",
    "    return dict(zip(boxes, values))\n"
   ]
  },
  {
   "cell_type": "markdown",
   "metadata": {},
   "source": [
    " The function will iterate over all the boxes in the puzzle that only have one value assigned to them, and it will remove this value from every one of its peers."
   ]
  },
  {
   "cell_type": "code",
   "execution_count": 95,
   "metadata": {},
   "outputs": [
    {
     "data": {
      "text/plain": "{'A1': '123456789',\n 'A2': '123456789',\n 'A3': '3',\n 'A4': '123456789',\n 'A5': '2',\n 'A6': '123456789',\n 'A7': '6',\n 'A8': '123456789',\n 'A9': '123456789',\n 'B1': '9',\n 'B2': '123456789',\n 'B3': '123456789',\n 'B4': '3',\n 'B5': '123456789',\n 'B6': '5',\n 'B7': '123456789',\n 'B8': '123456789',\n 'B9': '1',\n 'C1': '123456789',\n 'C2': '123456789',\n 'C3': '1',\n 'C4': '8',\n 'C5': '123456789',\n 'C6': '6',\n 'C7': '4',\n 'C8': '123456789',\n 'C9': '123456789',\n 'D1': '123456789',\n 'D2': '123456789',\n 'D3': '8',\n 'D4': '1',\n 'D5': '123456789',\n 'D6': '2',\n 'D7': '9',\n 'D8': '123456789',\n 'D9': '123456789',\n 'E1': '7',\n 'E2': '123456789',\n 'E3': '123456789',\n 'E4': '123456789',\n 'E5': '123456789',\n 'E6': '123456789',\n 'E7': '123456789',\n 'E8': '123456789',\n 'E9': '8',\n 'F1': '123456789',\n 'F2': '123456789',\n 'F3': '6',\n 'F4': '7',\n 'F5': '123456789',\n 'F6': '8',\n 'F7': '2',\n 'F8': '123456789',\n 'F9': '123456789',\n 'G1': '123456789',\n 'G2': '123456789',\n 'G3': '2',\n 'G4': '6',\n 'G5': '123456789',\n 'G6': '9',\n 'G7': '5',\n 'G8': '123456789',\n 'G9': '123456789',\n 'H1': '8',\n 'H2': '123456789',\n 'H3': '123456789',\n 'H4': '2',\n 'H5': '123456789',\n 'H6': '3',\n 'H7': '123456789',\n 'H8': '123456789',\n 'H9': '9',\n 'I1': '123456789',\n 'I2': '123456789',\n 'I3': '5',\n 'I4': '123456789',\n 'I5': '1',\n 'I6': '123456789',\n 'I7': '3',\n 'I8': '123456789',\n 'I9': '123456789'}"
     },
     "execution_count": 95,
     "metadata": {},
     "output_type": "execute_result"
    }
   ],
   "source": [
    "grid_values(unsolved_puzzle)"
   ]
  },
  {
   "cell_type": "code",
   "execution_count": 96,
   "metadata": {},
   "outputs": [
    {
     "name": "stdout",
     "output_type": "stream",
     "text": "123456789 123456789     3     |123456789     2     123456789 |    6     123456789 123456789 \n    9     123456789 123456789 |    3     123456789     5     |123456789 123456789     1     \n123456789 123456789     1     |    8     123456789     6     |    4     123456789 123456789 \n------------------------------+------------------------------+------------------------------\n123456789 123456789     8     |    1     123456789     2     |    9     123456789 123456789 \n    7     123456789 123456789 |123456789 123456789 123456789 |123456789 123456789     8     \n123456789 123456789     6     |    7     123456789     8     |    2     123456789 123456789 \n------------------------------+------------------------------+------------------------------\n123456789 123456789     2     |    6     123456789     9     |    5     123456789 123456789 \n    8     123456789 123456789 |    2     123456789     3     |123456789 123456789     9     \n123456789 123456789     5     |123456789     1     123456789 |    3     123456789 123456789 \n"
    }
   ],
   "source": [
    "display(grid_values(unsolved_puzzle))"
   ]
  },
  {
   "cell_type": "code",
   "execution_count": null,
   "metadata": {},
   "outputs": [],
   "source": [
    "from utils import *\n",
    "\n",
    "def eliminate(values):\n",
    "    \"\"\"Eliminate values from peers of each box with a single value.\n",
    "\n",
    "    Go through all the boxes, and whenever there is a box with a single value,\n",
    "    eliminate this value from the set of values of all its peers.\n",
    "\n",
    "    Args:\n",
    "        values: Sudoku in dictionary form.\n",
    "    Returns:\n",
    "        Resulting Sudoku in dictionary form after eliminating values.\n",
    "    \"\"\"\n",
    "    pass"
   ]
  },
  {
   "cell_type": "code",
   "execution_count": null,
   "metadata": {},
   "outputs": [],
   "source": [
    "def eliminate(val):\n",
    "    for k,v in val.items():\n",
    "        if len"
   ]
  },
  {
   "cell_type": "code",
   "execution_count": 105,
   "metadata": {},
   "outputs": [
    {
     "data": {
      "text/plain": "{'A1': '123456789',\n 'A2': '123456789',\n 'A3': '3',\n 'A4': '123456789',\n 'A5': '2',\n 'A6': '123456789',\n 'A7': '6',\n 'A8': '123456789',\n 'A9': '123456789',\n 'B1': '9',\n 'B2': '123456789',\n 'B3': '123456789',\n 'B4': '3',\n 'B5': '123456789',\n 'B6': '5',\n 'B7': '123456789',\n 'B8': '123456789',\n 'B9': '1',\n 'C1': '123456789',\n 'C2': '123456789',\n 'C3': '1',\n 'C4': '8',\n 'C5': '123456789',\n 'C6': '6',\n 'C7': '4',\n 'C8': '123456789',\n 'C9': '123456789',\n 'D1': '123456789',\n 'D2': '123456789',\n 'D3': '8',\n 'D4': '1',\n 'D5': '123456789',\n 'D6': '2',\n 'D7': '9',\n 'D8': '123456789',\n 'D9': '123456789',\n 'E1': '7',\n 'E2': '123456789',\n 'E3': '123456789',\n 'E4': '123456789',\n 'E5': '123456789',\n 'E6': '123456789',\n 'E7': '123456789',\n 'E8': '123456789',\n 'E9': '8',\n 'F1': '123456789',\n 'F2': '123456789',\n 'F3': '6',\n 'F4': '7',\n 'F5': '123456789',\n 'F6': '8',\n 'F7': '2',\n 'F8': '123456789',\n 'F9': '123456789',\n 'G1': '123456789',\n 'G2': '123456789',\n 'G3': '2',\n 'G4': '6',\n 'G5': '123456789',\n 'G6': '9',\n 'G7': '5',\n 'G8': '123456789',\n 'G9': '123456789',\n 'H1': '8',\n 'H2': '123456789',\n 'H3': '123456789',\n 'H4': '2',\n 'H5': '123456789',\n 'H6': '3',\n 'H7': '123456789',\n 'H8': '123456789',\n 'H9': '9',\n 'I1': '123456789',\n 'I2': '123456789',\n 'I3': '5',\n 'I4': '123456789',\n 'I5': '1',\n 'I6': '123456789',\n 'I7': '3',\n 'I8': '123456789',\n 'I9': '123456789'}"
     },
     "execution_count": 105,
     "metadata": {},
     "output_type": "execute_result"
    }
   ],
   "source": [
    "grid_values(unsolved_puzzle)"
   ]
  },
  {
   "cell_type": "code",
   "execution_count": 113,
   "metadata": {},
   "outputs": [
    {
     "data": {
      "text/plain": "{'A1': {'A2',\n  'A3',\n  'A4',\n  'A5',\n  'A6',\n  'A7',\n  'A8',\n  'A9',\n  'B1',\n  'B2',\n  'B3',\n  'C1',\n  'C2',\n  'C3',\n  'D1',\n  'E1',\n  'F1',\n  'G1',\n  'H1',\n  'I1'},\n 'A2': {'A1',\n  'A3',\n  'A4',\n  'A5',\n  'A6',\n  'A7',\n  'A8',\n  'A9',\n  'B1',\n  'B2',\n  'B3',\n  'C1',\n  'C2',\n  'C3',\n  'D2',\n  'E2',\n  'F2',\n  'G2',\n  'H2',\n  'I2'},\n 'A3': {'A1',\n  'A2',\n  'A4',\n  'A5',\n  'A6',\n  'A7',\n  'A8',\n  'A9',\n  'B1',\n  'B2',\n  'B3',\n  'C1',\n  'C2',\n  'C3',\n  'D3',\n  'E3',\n  'F3',\n  'G3',\n  'H3',\n  'I3'},\n 'A4': {'A1',\n  'A2',\n  'A3',\n  'A5',\n  'A6',\n  'A7',\n  'A8',\n  'A9',\n  'B4',\n  'B5',\n  'B6',\n  'C4',\n  'C5',\n  'C6',\n  'D4',\n  'E4',\n  'F4',\n  'G4',\n  'H4',\n  'I4'},\n 'A5': {'A1',\n  'A2',\n  'A3',\n  'A4',\n  'A6',\n  'A7',\n  'A8',\n  'A9',\n  'B4',\n  'B5',\n  'B6',\n  'C4',\n  'C5',\n  'C6',\n  'D5',\n  'E5',\n  'F5',\n  'G5',\n  'H5',\n  'I5'},\n 'A6': {'A1',\n  'A2',\n  'A3',\n  'A4',\n  'A5',\n  'A7',\n  'A8',\n  'A9',\n  'B4',\n  'B5',\n  'B6',\n  'C4',\n  'C5',\n  'C6',\n  'D6',\n  'E6',\n  'F6',\n  'G6',\n  'H6',\n  'I6'},\n 'A7': {'A1',\n  'A2',\n  'A3',\n  'A4',\n  'A5',\n  'A6',\n  'A8',\n  'A9',\n  'B7',\n  'B8',\n  'B9',\n  'C7',\n  'C8',\n  'C9',\n  'D7',\n  'E7',\n  'F7',\n  'G7',\n  'H7',\n  'I7'},\n 'A8': {'A1',\n  'A2',\n  'A3',\n  'A4',\n  'A5',\n  'A6',\n  'A7',\n  'A9',\n  'B7',\n  'B8',\n  'B9',\n  'C7',\n  'C8',\n  'C9',\n  'D8',\n  'E8',\n  'F8',\n  'G8',\n  'H8',\n  'I8'},\n 'A9': {'A1',\n  'A2',\n  'A3',\n  'A4',\n  'A5',\n  'A6',\n  'A7',\n  'A8',\n  'B7',\n  'B8',\n  'B9',\n  'C7',\n  'C8',\n  'C9',\n  'D9',\n  'E9',\n  'F9',\n  'G9',\n  'H9',\n  'I9'},\n 'B1': {'A1',\n  'A2',\n  'A3',\n  'B2',\n  'B3',\n  'B4',\n  'B5',\n  'B6',\n  'B7',\n  'B8',\n  'B9',\n  'C1',\n  'C2',\n  'C3',\n  'D1',\n  'E1',\n  'F1',\n  'G1',\n  'H1',\n  'I1'},\n 'B2': {'A1',\n  'A2',\n  'A3',\n  'B1',\n  'B3',\n  'B4',\n  'B5',\n  'B6',\n  'B7',\n  'B8',\n  'B9',\n  'C1',\n  'C2',\n  'C3',\n  'D2',\n  'E2',\n  'F2',\n  'G2',\n  'H2',\n  'I2'},\n 'B3': {'A1',\n  'A2',\n  'A3',\n  'B1',\n  'B2',\n  'B4',\n  'B5',\n  'B6',\n  'B7',\n  'B8',\n  'B9',\n  'C1',\n  'C2',\n  'C3',\n  'D3',\n  'E3',\n  'F3',\n  'G3',\n  'H3',\n  'I3'},\n 'B4': {'A4',\n  'A5',\n  'A6',\n  'B1',\n  'B2',\n  'B3',\n  'B5',\n  'B6',\n  'B7',\n  'B8',\n  'B9',\n  'C4',\n  'C5',\n  'C6',\n  'D4',\n  'E4',\n  'F4',\n  'G4',\n  'H4',\n  'I4'},\n 'B5': {'A4',\n  'A5',\n  'A6',\n  'B1',\n  'B2',\n  'B3',\n  'B4',\n  'B6',\n  'B7',\n  'B8',\n  'B9',\n  'C4',\n  'C5',\n  'C6',\n  'D5',\n  'E5',\n  'F5',\n  'G5',\n  'H5',\n  'I5'},\n 'B6': {'A4',\n  'A5',\n  'A6',\n  'B1',\n  'B2',\n  'B3',\n  'B4',\n  'B5',\n  'B7',\n  'B8',\n  'B9',\n  'C4',\n  'C5',\n  'C6',\n  'D6',\n  'E6',\n  'F6',\n  'G6',\n  'H6',\n  'I6'},\n 'B7': {'A7',\n  'A8',\n  'A9',\n  'B1',\n  'B2',\n  'B3',\n  'B4',\n  'B5',\n  'B6',\n  'B8',\n  'B9',\n  'C7',\n  'C8',\n  'C9',\n  'D7',\n  'E7',\n  'F7',\n  'G7',\n  'H7',\n  'I7'},\n 'B8': {'A7',\n  'A8',\n  'A9',\n  'B1',\n  'B2',\n  'B3',\n  'B4',\n  'B5',\n  'B6',\n  'B7',\n  'B9',\n  'C7',\n  'C8',\n  'C9',\n  'D8',\n  'E8',\n  'F8',\n  'G8',\n  'H8',\n  'I8'},\n 'B9': {'A7',\n  'A8',\n  'A9',\n  'B1',\n  'B2',\n  'B3',\n  'B4',\n  'B5',\n  'B6',\n  'B7',\n  'B8',\n  'C7',\n  'C8',\n  'C9',\n  'D9',\n  'E9',\n  'F9',\n  'G9',\n  'H9',\n  'I9'},\n 'C1': {'A1',\n  'A2',\n  'A3',\n  'B1',\n  'B2',\n  'B3',\n  'C2',\n  'C3',\n  'C4',\n  'C5',\n  'C6',\n  'C7',\n  'C8',\n  'C9',\n  'D1',\n  'E1',\n  'F1',\n  'G1',\n  'H1',\n  'I1'},\n 'C2': {'A1',\n  'A2',\n  'A3',\n  'B1',\n  'B2',\n  'B3',\n  'C1',\n  'C3',\n  'C4',\n  'C5',\n  'C6',\n  'C7',\n  'C8',\n  'C9',\n  'D2',\n  'E2',\n  'F2',\n  'G2',\n  'H2',\n  'I2'},\n 'C3': {'A1',\n  'A2',\n  'A3',\n  'B1',\n  'B2',\n  'B3',\n  'C1',\n  'C2',\n  'C4',\n  'C5',\n  'C6',\n  'C7',\n  'C8',\n  'C9',\n  'D3',\n  'E3',\n  'F3',\n  'G3',\n  'H3',\n  'I3'},\n 'C4': {'A4',\n  'A5',\n  'A6',\n  'B4',\n  'B5',\n  'B6',\n  'C1',\n  'C2',\n  'C3',\n  'C5',\n  'C6',\n  'C7',\n  'C8',\n  'C9',\n  'D4',\n  'E4',\n  'F4',\n  'G4',\n  'H4',\n  'I4'},\n 'C5': {'A4',\n  'A5',\n  'A6',\n  'B4',\n  'B5',\n  'B6',\n  'C1',\n  'C2',\n  'C3',\n  'C4',\n  'C6',\n  'C7',\n  'C8',\n  'C9',\n  'D5',\n  'E5',\n  'F5',\n  'G5',\n  'H5',\n  'I5'},\n 'C6': {'A4',\n  'A5',\n  'A6',\n  'B4',\n  'B5',\n  'B6',\n  'C1',\n  'C2',\n  'C3',\n  'C4',\n  'C5',\n  'C7',\n  'C8',\n  'C9',\n  'D6',\n  'E6',\n  'F6',\n  'G6',\n  'H6',\n  'I6'},\n 'C7': {'A7',\n  'A8',\n  'A9',\n  'B7',\n  'B8',\n  'B9',\n  'C1',\n  'C2',\n  'C3',\n  'C4',\n  'C5',\n  'C6',\n  'C8',\n  'C9',\n  'D7',\n  'E7',\n  'F7',\n  'G7',\n  'H7',\n  'I7'},\n 'C8': {'A7',\n  'A8',\n  'A9',\n  'B7',\n  'B8',\n  'B9',\n  'C1',\n  'C2',\n  'C3',\n  'C4',\n  'C5',\n  'C6',\n  'C7',\n  'C9',\n  'D8',\n  'E8',\n  'F8',\n  'G8',\n  'H8',\n  'I8'},\n 'C9': {'A7',\n  'A8',\n  'A9',\n  'B7',\n  'B8',\n  'B9',\n  'C1',\n  'C2',\n  'C3',\n  'C4',\n  'C5',\n  'C6',\n  'C7',\n  'C8',\n  'D9',\n  'E9',\n  'F9',\n  'G9',\n  'H9',\n  'I9'},\n 'D1': {'A1',\n  'B1',\n  'C1',\n  'D2',\n  'D3',\n  'D4',\n  'D5',\n  'D6',\n  'D7',\n  'D8',\n  'D9',\n  'E1',\n  'E2',\n  'E3',\n  'F1',\n  'F2',\n  'F3',\n  'G1',\n  'H1',\n  'I1'},\n 'D2': {'A2',\n  'B2',\n  'C2',\n  'D1',\n  'D3',\n  'D4',\n  'D5',\n  'D6',\n  'D7',\n  'D8',\n  'D9',\n  'E1',\n  'E2',\n  'E3',\n  'F1',\n  'F2',\n  'F3',\n  'G2',\n  'H2',\n  'I2'},\n 'D3': {'A3',\n  'B3',\n  'C3',\n  'D1',\n  'D2',\n  'D4',\n  'D5',\n  'D6',\n  'D7',\n  'D8',\n  'D9',\n  'E1',\n  'E2',\n  'E3',\n  'F1',\n  'F2',\n  'F3',\n  'G3',\n  'H3',\n  'I3'},\n 'D4': {'A4',\n  'B4',\n  'C4',\n  'D1',\n  'D2',\n  'D3',\n  'D5',\n  'D6',\n  'D7',\n  'D8',\n  'D9',\n  'E4',\n  'E5',\n  'E6',\n  'F4',\n  'F5',\n  'F6',\n  'G4',\n  'H4',\n  'I4'},\n 'D5': {'A5',\n  'B5',\n  'C5',\n  'D1',\n  'D2',\n  'D3',\n  'D4',\n  'D6',\n  'D7',\n  'D8',\n  'D9',\n  'E4',\n  'E5',\n  'E6',\n  'F4',\n  'F5',\n  'F6',\n  'G5',\n  'H5',\n  'I5'},\n 'D6': {'A6',\n  'B6',\n  'C6',\n  'D1',\n  'D2',\n  'D3',\n  'D4',\n  'D5',\n  'D7',\n  'D8',\n  'D9',\n  'E4',\n  'E5',\n  'E6',\n  'F4',\n  'F5',\n  'F6',\n  'G6',\n  'H6',\n  'I6'},\n 'D7': {'A7',\n  'B7',\n  'C7',\n  'D1',\n  'D2',\n  'D3',\n  'D4',\n  'D5',\n  'D6',\n  'D8',\n  'D9',\n  'E7',\n  'E8',\n  'E9',\n  'F7',\n  'F8',\n  'F9',\n  'G7',\n  'H7',\n  'I7'},\n 'D8': {'A8',\n  'B8',\n  'C8',\n  'D1',\n  'D2',\n  'D3',\n  'D4',\n  'D5',\n  'D6',\n  'D7',\n  'D9',\n  'E7',\n  'E8',\n  'E9',\n  'F7',\n  'F8',\n  'F9',\n  'G8',\n  'H8',\n  'I8'},\n 'D9': {'A9',\n  'B9',\n  'C9',\n  'D1',\n  'D2',\n  'D3',\n  'D4',\n  'D5',\n  'D6',\n  'D7',\n  'D8',\n  'E7',\n  'E8',\n  'E9',\n  'F7',\n  'F8',\n  'F9',\n  'G9',\n  'H9',\n  'I9'},\n 'E1': {'A1',\n  'B1',\n  'C1',\n  'D1',\n  'D2',\n  'D3',\n  'E2',\n  'E3',\n  'E4',\n  'E5',\n  'E6',\n  'E7',\n  'E8',\n  'E9',\n  'F1',\n  'F2',\n  'F3',\n  'G1',\n  'H1',\n  'I1'},\n 'E2': {'A2',\n  'B2',\n  'C2',\n  'D1',\n  'D2',\n  'D3',\n  'E1',\n  'E3',\n  'E4',\n  'E5',\n  'E6',\n  'E7',\n  'E8',\n  'E9',\n  'F1',\n  'F2',\n  'F3',\n  'G2',\n  'H2',\n  'I2'},\n 'E3': {'A3',\n  'B3',\n  'C3',\n  'D1',\n  'D2',\n  'D3',\n  'E1',\n  'E2',\n  'E4',\n  'E5',\n  'E6',\n  'E7',\n  'E8',\n  'E9',\n  'F1',\n  'F2',\n  'F3',\n  'G3',\n  'H3',\n  'I3'},\n 'E4': {'A4',\n  'B4',\n  'C4',\n  'D4',\n  'D5',\n  'D6',\n  'E1',\n  'E2',\n  'E3',\n  'E5',\n  'E6',\n  'E7',\n  'E8',\n  'E9',\n  'F4',\n  'F5',\n  'F6',\n  'G4',\n  'H4',\n  'I4'},\n 'E5': {'A5',\n  'B5',\n  'C5',\n  'D4',\n  'D5',\n  'D6',\n  'E1',\n  'E2',\n  'E3',\n  'E4',\n  'E6',\n  'E7',\n  'E8',\n  'E9',\n  'F4',\n  'F5',\n  'F6',\n  'G5',\n  'H5',\n  'I5'},\n 'E6': {'A6',\n  'B6',\n  'C6',\n  'D4',\n  'D5',\n  'D6',\n  'E1',\n  'E2',\n  'E3',\n  'E4',\n  'E5',\n  'E7',\n  'E8',\n  'E9',\n  'F4',\n  'F5',\n  'F6',\n  'G6',\n  'H6',\n  'I6'},\n 'E7': {'A7',\n  'B7',\n  'C7',\n  'D7',\n  'D8',\n  'D9',\n  'E1',\n  'E2',\n  'E3',\n  'E4',\n  'E5',\n  'E6',\n  'E8',\n  'E9',\n  'F7',\n  'F8',\n  'F9',\n  'G7',\n  'H7',\n  'I7'},\n 'E8': {'A8',\n  'B8',\n  'C8',\n  'D7',\n  'D8',\n  'D9',\n  'E1',\n  'E2',\n  'E3',\n  'E4',\n  'E5',\n  'E6',\n  'E7',\n  'E9',\n  'F7',\n  'F8',\n  'F9',\n  'G8',\n  'H8',\n  'I8'},\n 'E9': {'A9',\n  'B9',\n  'C9',\n  'D7',\n  'D8',\n  'D9',\n  'E1',\n  'E2',\n  'E3',\n  'E4',\n  'E5',\n  'E6',\n  'E7',\n  'E8',\n  'F7',\n  'F8',\n  'F9',\n  'G9',\n  'H9',\n  'I9'},\n 'F1': {'A1',\n  'B1',\n  'C1',\n  'D1',\n  'D2',\n  'D3',\n  'E1',\n  'E2',\n  'E3',\n  'F2',\n  'F3',\n  'F4',\n  'F5',\n  'F6',\n  'F7',\n  'F8',\n  'F9',\n  'G1',\n  'H1',\n  'I1'},\n 'F2': {'A2',\n  'B2',\n  'C2',\n  'D1',\n  'D2',\n  'D3',\n  'E1',\n  'E2',\n  'E3',\n  'F1',\n  'F3',\n  'F4',\n  'F5',\n  'F6',\n  'F7',\n  'F8',\n  'F9',\n  'G2',\n  'H2',\n  'I2'},\n 'F3': {'A3',\n  'B3',\n  'C3',\n  'D1',\n  'D2',\n  'D3',\n  'E1',\n  'E2',\n  'E3',\n  'F1',\n  'F2',\n  'F4',\n  'F5',\n  'F6',\n  'F7',\n  'F8',\n  'F9',\n  'G3',\n  'H3',\n  'I3'},\n 'F4': {'A4',\n  'B4',\n  'C4',\n  'D4',\n  'D5',\n  'D6',\n  'E4',\n  'E5',\n  'E6',\n  'F1',\n  'F2',\n  'F3',\n  'F5',\n  'F6',\n  'F7',\n  'F8',\n  'F9',\n  'G4',\n  'H4',\n  'I4'},\n 'F5': {'A5',\n  'B5',\n  'C5',\n  'D4',\n  'D5',\n  'D6',\n  'E4',\n  'E5',\n  'E6',\n  'F1',\n  'F2',\n  'F3',\n  'F4',\n  'F6',\n  'F7',\n  'F8',\n  'F9',\n  'G5',\n  'H5',\n  'I5'},\n 'F6': {'A6',\n  'B6',\n  'C6',\n  'D4',\n  'D5',\n  'D6',\n  'E4',\n  'E5',\n  'E6',\n  'F1',\n  'F2',\n  'F3',\n  'F4',\n  'F5',\n  'F7',\n  'F8',\n  'F9',\n  'G6',\n  'H6',\n  'I6'},\n 'F7': {'A7',\n  'B7',\n  'C7',\n  'D7',\n  'D8',\n  'D9',\n  'E7',\n  'E8',\n  'E9',\n  'F1',\n  'F2',\n  'F3',\n  'F4',\n  'F5',\n  'F6',\n  'F8',\n  'F9',\n  'G7',\n  'H7',\n  'I7'},\n 'F8': {'A8',\n  'B8',\n  'C8',\n  'D7',\n  'D8',\n  'D9',\n  'E7',\n  'E8',\n  'E9',\n  'F1',\n  'F2',\n  'F3',\n  'F4',\n  'F5',\n  'F6',\n  'F7',\n  'F9',\n  'G8',\n  'H8',\n  'I8'},\n 'F9': {'A9',\n  'B9',\n  'C9',\n  'D7',\n  'D8',\n  'D9',\n  'E7',\n  'E8',\n  'E9',\n  'F1',\n  'F2',\n  'F3',\n  'F4',\n  'F5',\n  'F6',\n  'F7',\n  'F8',\n  'G9',\n  'H9',\n  'I9'},\n 'G1': {'A1',\n  'B1',\n  'C1',\n  'D1',\n  'E1',\n  'F1',\n  'G2',\n  'G3',\n  'G4',\n  'G5',\n  'G6',\n  'G7',\n  'G8',\n  'G9',\n  'H1',\n  'H2',\n  'H3',\n  'I1',\n  'I2',\n  'I3'},\n 'G2': {'A2',\n  'B2',\n  'C2',\n  'D2',\n  'E2',\n  'F2',\n  'G1',\n  'G3',\n  'G4',\n  'G5',\n  'G6',\n  'G7',\n  'G8',\n  'G9',\n  'H1',\n  'H2',\n  'H3',\n  'I1',\n  'I2',\n  'I3'},\n 'G3': {'A3',\n  'B3',\n  'C3',\n  'D3',\n  'E3',\n  'F3',\n  'G1',\n  'G2',\n  'G4',\n  'G5',\n  'G6',\n  'G7',\n  'G8',\n  'G9',\n  'H1',\n  'H2',\n  'H3',\n  'I1',\n  'I2',\n  'I3'},\n 'G4': {'A4',\n  'B4',\n  'C4',\n  'D4',\n  'E4',\n  'F4',\n  'G1',\n  'G2',\n  'G3',\n  'G5',\n  'G6',\n  'G7',\n  'G8',\n  'G9',\n  'H4',\n  'H5',\n  'H6',\n  'I4',\n  'I5',\n  'I6'},\n 'G5': {'A5',\n  'B5',\n  'C5',\n  'D5',\n  'E5',\n  'F5',\n  'G1',\n  'G2',\n  'G3',\n  'G4',\n  'G6',\n  'G7',\n  'G8',\n  'G9',\n  'H4',\n  'H5',\n  'H6',\n  'I4',\n  'I5',\n  'I6'},\n 'G6': {'A6',\n  'B6',\n  'C6',\n  'D6',\n  'E6',\n  'F6',\n  'G1',\n  'G2',\n  'G3',\n  'G4',\n  'G5',\n  'G7',\n  'G8',\n  'G9',\n  'H4',\n  'H5',\n  'H6',\n  'I4',\n  'I5',\n  'I6'},\n 'G7': {'A7',\n  'B7',\n  'C7',\n  'D7',\n  'E7',\n  'F7',\n  'G1',\n  'G2',\n  'G3',\n  'G4',\n  'G5',\n  'G6',\n  'G8',\n  'G9',\n  'H7',\n  'H8',\n  'H9',\n  'I7',\n  'I8',\n  'I9'},\n 'G8': {'A8',\n  'B8',\n  'C8',\n  'D8',\n  'E8',\n  'F8',\n  'G1',\n  'G2',\n  'G3',\n  'G4',\n  'G5',\n  'G6',\n  'G7',\n  'G9',\n  'H7',\n  'H8',\n  'H9',\n  'I7',\n  'I8',\n  'I9'},\n 'G9': {'A9',\n  'B9',\n  'C9',\n  'D9',\n  'E9',\n  'F9',\n  'G1',\n  'G2',\n  'G3',\n  'G4',\n  'G5',\n  'G6',\n  'G7',\n  'G8',\n  'H7',\n  'H8',\n  'H9',\n  'I7',\n  'I8',\n  'I9'},\n 'H1': {'A1',\n  'B1',\n  'C1',\n  'D1',\n  'E1',\n  'F1',\n  'G1',\n  'G2',\n  'G3',\n  'H2',\n  'H3',\n  'H4',\n  'H5',\n  'H6',\n  'H7',\n  'H8',\n  'H9',\n  'I1',\n  'I2',\n  'I3'},\n 'H2': {'A2',\n  'B2',\n  'C2',\n  'D2',\n  'E2',\n  'F2',\n  'G1',\n  'G2',\n  'G3',\n  'H1',\n  'H3',\n  'H4',\n  'H5',\n  'H6',\n  'H7',\n  'H8',\n  'H9',\n  'I1',\n  'I2',\n  'I3'},\n 'H3': {'A3',\n  'B3',\n  'C3',\n  'D3',\n  'E3',\n  'F3',\n  'G1',\n  'G2',\n  'G3',\n  'H1',\n  'H2',\n  'H4',\n  'H5',\n  'H6',\n  'H7',\n  'H8',\n  'H9',\n  'I1',\n  'I2',\n  'I3'},\n 'H4': {'A4',\n  'B4',\n  'C4',\n  'D4',\n  'E4',\n  'F4',\n  'G4',\n  'G5',\n  'G6',\n  'H1',\n  'H2',\n  'H3',\n  'H5',\n  'H6',\n  'H7',\n  'H8',\n  'H9',\n  'I4',\n  'I5',\n  'I6'},\n 'H5': {'A5',\n  'B5',\n  'C5',\n  'D5',\n  'E5',\n  'F5',\n  'G4',\n  'G5',\n  'G6',\n  'H1',\n  'H2',\n  'H3',\n  'H4',\n  'H6',\n  'H7',\n  'H8',\n  'H9',\n  'I4',\n  'I5',\n  'I6'},\n 'H6': {'A6',\n  'B6',\n  'C6',\n  'D6',\n  'E6',\n  'F6',\n  'G4',\n  'G5',\n  'G6',\n  'H1',\n  'H2',\n  'H3',\n  'H4',\n  'H5',\n  'H7',\n  'H8',\n  'H9',\n  'I4',\n  'I5',\n  'I6'},\n 'H7': {'A7',\n  'B7',\n  'C7',\n  'D7',\n  'E7',\n  'F7',\n  'G7',\n  'G8',\n  'G9',\n  'H1',\n  'H2',\n  'H3',\n  'H4',\n  'H5',\n  'H6',\n  'H8',\n  'H9',\n  'I7',\n  'I8',\n  'I9'},\n 'H8': {'A8',\n  'B8',\n  'C8',\n  'D8',\n  'E8',\n  'F8',\n  'G7',\n  'G8',\n  'G9',\n  'H1',\n  'H2',\n  'H3',\n  'H4',\n  'H5',\n  'H6',\n  'H7',\n  'H9',\n  'I7',\n  'I8',\n  'I9'},\n 'H9': {'A9',\n  'B9',\n  'C9',\n  'D9',\n  'E9',\n  'F9',\n  'G7',\n  'G8',\n  'G9',\n  'H1',\n  'H2',\n  'H3',\n  'H4',\n  'H5',\n  'H6',\n  'H7',\n  'H8',\n  'I7',\n  'I8',\n  'I9'},\n 'I1': {'A1',\n  'B1',\n  'C1',\n  'D1',\n  'E1',\n  'F1',\n  'G1',\n  'G2',\n  'G3',\n  'H1',\n  'H2',\n  'H3',\n  'I2',\n  'I3',\n  'I4',\n  'I5',\n  'I6',\n  'I7',\n  'I8',\n  'I9'},\n 'I2': {'A2',\n  'B2',\n  'C2',\n  'D2',\n  'E2',\n  'F2',\n  'G1',\n  'G2',\n  'G3',\n  'H1',\n  'H2',\n  'H3',\n  'I1',\n  'I3',\n  'I4',\n  'I5',\n  'I6',\n  'I7',\n  'I8',\n  'I9'},\n 'I3': {'A3',\n  'B3',\n  'C3',\n  'D3',\n  'E3',\n  'F3',\n  'G1',\n  'G2',\n  'G3',\n  'H1',\n  'H2',\n  'H3',\n  'I1',\n  'I2',\n  'I4',\n  'I5',\n  'I6',\n  'I7',\n  'I8',\n  'I9'},\n 'I4': {'A4',\n  'B4',\n  'C4',\n  'D4',\n  'E4',\n  'F4',\n  'G4',\n  'G5',\n  'G6',\n  'H4',\n  'H5',\n  'H6',\n  'I1',\n  'I2',\n  'I3',\n  'I5',\n  'I6',\n  'I7',\n  'I8',\n  'I9'},\n 'I5': {'A5',\n  'B5',\n  'C5',\n  'D5',\n  'E5',\n  'F5',\n  'G4',\n  'G5',\n  'G6',\n  'H4',\n  'H5',\n  'H6',\n  'I1',\n  'I2',\n  'I3',\n  'I4',\n  'I6',\n  'I7',\n  'I8',\n  'I9'},\n 'I6': {'A6',\n  'B6',\n  'C6',\n  'D6',\n  'E6',\n  'F6',\n  'G4',\n  'G5',\n  'G6',\n  'H4',\n  'H5',\n  'H6',\n  'I1',\n  'I2',\n  'I3',\n  'I4',\n  'I5',\n  'I7',\n  'I8',\n  'I9'},\n 'I7': {'A7',\n  'B7',\n  'C7',\n  'D7',\n  'E7',\n  'F7',\n  'G7',\n  'G8',\n  'G9',\n  'H7',\n  'H8',\n  'H9',\n  'I1',\n  'I2',\n  'I3',\n  'I4',\n  'I5',\n  'I6',\n  'I8',\n  'I9'},\n 'I8': {'A8',\n  'B8',\n  'C8',\n  'D8',\n  'E8',\n  'F8',\n  'G7',\n  'G8',\n  'G9',\n  'H7',\n  'H8',\n  'H9',\n  'I1',\n  'I2',\n  'I3',\n  'I4',\n  'I5',\n  'I6',\n  'I7',\n  'I9'},\n 'I9': {'A9',\n  'B9',\n  'C9',\n  'D9',\n  'E9',\n  'F9',\n  'G7',\n  'G8',\n  'G9',\n  'H7',\n  'H8',\n  'H9',\n  'I1',\n  'I2',\n  'I3',\n  'I4',\n  'I5',\n  'I6',\n  'I7',\n  'I8'}}"
     },
     "execution_count": 113,
     "metadata": {},
     "output_type": "execute_result"
    }
   ],
   "source": [
    "peers"
   ]
  },
  {
   "cell_type": "code",
   "execution_count": 110,
   "metadata": {},
   "outputs": [
    {
     "data": {
      "text/plain": "81"
     },
     "execution_count": 110,
     "metadata": {},
     "output_type": "execute_result"
    }
   ],
   "source": [
    "len(peers.keys())"
   ]
  },
  {
   "cell_type": "code",
   "execution_count": null,
   "metadata": {},
   "outputs": [],
   "source": []
  }
 ]
}